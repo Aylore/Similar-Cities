{
  "nbformat": 4,
  "nbformat_minor": 0,
  "metadata": {
    "colab": {
      "name": "Before you move.ipynb",
      "provenance": [],
      "authorship_tag": "ABX9TyOhBpfIC4lp7Xt+fTBrmggt",
      "include_colab_link": true
    },
    "kernelspec": {
      "name": "python3",
      "display_name": "Python 3"
    }
  },
  "cells": [
    {
      "cell_type": "markdown",
      "metadata": {
        "id": "view-in-github",
        "colab_type": "text"
      },
      "source": [
        "<a href=\"https://colab.research.google.com/github/kingslayer2274/Similar-Cities/blob/master/Before_you_move.ipynb\" target=\"_parent\"><img src=\"https://colab.research.google.com/assets/colab-badge.svg\" alt=\"Open In Colab\"/></a>"
      ]
    },
    {
      "cell_type": "markdown",
      "metadata": {
        "id": "RhMX1ZVzGh-q",
        "colab_type": "text"
      },
      "source": [
        "## Let's say you are offered the same job in a various cities around the world , but the **problem** is you like the current life style you are living , you don't want to change that , a **solution** must be found , So you use data science and machine learning to find the similarties and diffrences between cities .\n",
        "\n",
        "### This will not only be usuful for those who are offered jobs , but also for anyone who want to move from their current city\n",
        "\n",
        "<hr>\n",
        "\n",
        "# In this project we are only going to apply it on three cities around the world which is:\n",
        "\n",
        "*   Toronto , Canda \n",
        "*   Paris , France\n",
        "*   New York , USA\n",
        "\n",
        "## which datasets can be found here:\n",
        "  https://en.wikipedia.org/wiki/Arrondissements_of_Paris\n",
        "\n",
        "  https://en.wikipedia.org/wiki/List_of_postal_codes_of_Canada:_M\n",
        "\n",
        "  https://cocl.us/new_york_dataset\n",
        "\n",
        "\n",
        "\n",
        "<hr/>\n",
        "\n",
        "\n",
        "##  After we create a big data set compines all of the above we now have to get the location of each neighborhood of this data set :\n",
        "*  We can use Geocoder library which will give us the longitude and magnitude of the place we want \n",
        "\n",
        "* Now after we have the location of the every place in our data set , we can use foursquare API to provide us with a recomendation of venues near any of our data set places\n",
        "\n",
        "* Now we can use these results from foursquare to cluster our data and find similarties\n",
        "\n",
        "\n",
        "\n",
        "\n"
      ]
    },
    {
      "cell_type": "code",
      "metadata": {
        "id": "ZBA5lQvrXEVf",
        "colab_type": "code",
        "colab": {}
      },
      "source": [
        ""
      ],
      "execution_count": null,
      "outputs": []
    }
  ]
}